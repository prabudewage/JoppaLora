{
 "cells": [
  {
   "cell_type": "code",
   "execution_count": 1,
   "id": "7ca6fe6e",
   "metadata": {},
   "outputs": [],
   "source": [
    "# Convert UTC time to local (Texas) time"
   ]
  },
  {
   "cell_type": "code",
   "execution_count": 2,
   "id": "625f8288",
   "metadata": {},
   "outputs": [],
   "source": [
    "using Plots\n",
    "using CSV\n",
    "using DataFrames\n",
    "using Dates\n",
    "using Statistics\n",
    "using StatsPlots"
   ]
  },
  {
   "cell_type": "code",
   "execution_count": 7,
   "id": "aa9bf78a",
   "metadata": {},
   "outputs": [],
   "source": [
    "# Open 10min averaged UTC time dataFrames.\n",
    "df53 = CSV.read(\"/Users/prabu/Desktop/Joppa/10min_avg_df/df_lora53.csv\", DataFrame)\n",
    "df54 = CSV.read(\"/Users/prabu/Desktop/Joppa/10min_avg_df/df_lora54.csv\", DataFrame)\n",
    "df_central = CSV.read(\"/Users/prabu/Desktop/Joppa/10min_avg_df/df_central.csv\", DataFrame);"
   ]
  },
  {
   "cell_type": "code",
   "execution_count": 9,
   "id": "a599dec5",
   "metadata": {},
   "outputs": [],
   "source": [
    "# Convert dateTime from UTC to local time\n",
    "df53.dateTime = df53.dateTime - Dates.Hour(5)   \n",
    "df54.dateTime = df54.dateTime - Dates.Hour(5)  \n",
    "df_central.dateTime = df_central.dateTime - Dates.Hour(5);  "
   ]
  },
  {
   "cell_type": "code",
   "execution_count": 10,
   "id": "9fcd865d",
   "metadata": {},
   "outputs": [
    {
     "data": {
      "text/plain": [
       "\"/Users/prabu/Desktop/Joppa/local_time_10min_averaged_dataframes/df_central_local_time_10min_avg.csv\""
      ]
     },
     "execution_count": 10,
     "metadata": {},
     "output_type": "execute_result"
    }
   ],
   "source": [
    "# Save local time dataFrames\n",
    "CSV.write(\"/Users/prabu/Desktop/Joppa/local_10min_avg_df/df53_local_time_10min_avg.csv\", df53) \n",
    "CSV.write(\"/Users/prabu/Desktop/Joppa/local_10min_avg_df/df54_local_time_10min_avg.csv\", df54) \n",
    "CSV.write(\"/Users/prabu/Desktop/Joppa/local_10min_avg_df/df_central_local_time_10min_avg.csv\", df_central) "
   ]
  }
 ],
 "metadata": {
  "kernelspec": {
   "display_name": "Julia 1.7.2",
   "language": "julia",
   "name": "julia-1.7"
  },
  "language_info": {
   "file_extension": ".jl",
   "mimetype": "application/julia",
   "name": "julia",
   "version": "1.7.2"
  }
 },
 "nbformat": 4,
 "nbformat_minor": 5
}
