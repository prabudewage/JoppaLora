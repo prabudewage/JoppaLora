{
 "cells": [
  {
   "cell_type": "markdown",
   "id": "10e06388",
   "metadata": {},
   "source": [
    "# Convert UTC time to local (Texas) time"
   ]
  },
  {
   "cell_type": "code",
   "execution_count": 158,
   "id": "b901fe87",
   "metadata": {},
   "outputs": [],
   "source": [
    "using Plots\n",
    "using CSV\n",
    "using DataFrames\n",
    "using Dates\n",
    "using Statistics\n",
    "using StatsPlots"
   ]
  },
  {
   "cell_type": "markdown",
   "id": "98863802",
   "metadata": {},
   "source": [
    "### Open 10min averaged UTC time dataFrames"
   ]
  },
  {
   "cell_type": "code",
   "execution_count": 159,
   "id": "cdb41d1f",
   "metadata": {},
   "outputs": [],
   "source": [
    "# Open 10min averaged UTC time dataFrames.\n",
    "df53 = CSV.read(\"/Users/prabu/Desktop/Joppa/10min_avg_df/df_lora53.csv\", DataFrame)\n",
    "df54 = CSV.read(\"/Users/prabu/Desktop/Joppa/10min_avg_df/df_lora54.csv\", DataFrame)\n",
    "df_central = CSV.read(\"/Users/prabu/Desktop/Joppa/10min_avg_df/df_central.csv\", DataFrame);"
   ]
  },
  {
   "cell_type": "markdown",
   "id": "ffadc56e",
   "metadata": {},
   "source": [
    "### Convert dateTime from UTC to local time"
   ]
  },
  {
   "cell_type": "code",
   "execution_count": 160,
   "id": "a054a731",
   "metadata": {},
   "outputs": [],
   "source": [
    "# Convert dateTime from UTC to local time\n",
    "df53.dateTime = df53.dateTime - Dates.Hour(5)   \n",
    "df54.dateTime = df54.dateTime - Dates.Hour(5)  \n",
    "df_central.dateTime = df_central.dateTime - Dates.Hour(5);  "
   ]
  },
  {
   "cell_type": "markdown",
   "id": "1c4dc9c9",
   "metadata": {},
   "source": [
    "# ----------------------------------------------------------------------------------------"
   ]
  },
  {
   "cell_type": "markdown",
   "id": "46f48447",
   "metadata": {},
   "source": [
    "# Average DataFrames"
   ]
  },
  {
   "cell_type": "markdown",
   "id": "672df787",
   "metadata": {},
   "source": [
    "### 10min averaged dataFrames"
   ]
  },
  {
   "cell_type": "code",
   "execution_count": 161,
   "id": "3eae8322",
   "metadata": {},
   "outputs": [],
   "source": [
    "# Removing Missing rows\n",
    "L53_10min = df53[completecases(df53), :]     \n",
    "L54_10min = df54[completecases(df54), :] \n",
    "Central_10min = df_central[completecases(df_central), :]; "
   ]
  },
  {
   "cell_type": "markdown",
   "id": "32ef7c99",
   "metadata": {},
   "source": [
    "### Hourly averaged dataFrames "
   ]
  },
  {
   "cell_type": "code",
   "execution_count": 162,
   "id": "e0cadf3a",
   "metadata": {},
   "outputs": [],
   "source": [
    "# LoRa-53 data averaging hourly\n",
    "L53_h = df53[completecases(df53), :]     # Removing Missing rows\n",
    "L53_h.dateTime = map((x) -> round(x, Dates.Hour(1)), L53_h.dateTime) \n",
    "L53_hg = groupby(L53_h, :dateTime) \n",
    "L53_hly = combine(L53_hg, valuecols(L53_hg) .=> mean)\n",
    "\n",
    "# LoRa-54 data averaging hourly\n",
    "L54_h = df54[completecases(df54), :]     # Removing Missing rows\n",
    "L54_h.dateTime = map((x) -> round(x, Dates.Hour(1)), L54_h.dateTime) \n",
    "L54_hg = groupby(L54_h, :dateTime) \n",
    "L54_hly = combine(L54_hg, valuecols(L54_hg) .=> mean)\n",
    "\n",
    "# Central-Node data averaging hourly\n",
    "Central_h = df_central[completecases(df_central), :]     # Removing Missing rows\n",
    "Central_h.dateTime = map((x) -> round(x, Dates.Hour(1)), Central_h.dateTime) \n",
    "Central_hg = groupby(Central_h, :dateTime) \n",
    "Central_hly= combine(Central_hg, valuecols(Central_hg) .=> mean);"
   ]
  },
  {
   "cell_type": "markdown",
   "id": "3a7bd071",
   "metadata": {},
   "source": [
    "### Daily averaged dataFrames "
   ]
  },
  {
   "cell_type": "code",
   "execution_count": 164,
   "id": "18878d42",
   "metadata": {},
   "outputs": [],
   "source": [
    "# LoRa-53 data averaging hourly\n",
    "L53_d = df53[completecases(df53), :]     # Removing Missing rows\n",
    "L53_d.dateTime = map((x) -> round(x, Dates.Day(1)), L53_d.dateTime) \n",
    "L53_dg = groupby(L53_d, :dateTime) \n",
    "L53_dly = combine(L53_dg, valuecols(L53_dg) .=> mean)\n",
    "# Removing time part of dateTime column\n",
    "L53_dly.dateTime = SubString.(string.(L53_dly.dateTime), 1, 10)\n",
    "L53_dly.dateTime = Date.(L53_dly.dateTime, \"yyyy-mm-dd\")\n",
    "\n",
    "# LoRa-54 data averaging hourly\n",
    "L54_d = df54[completecases(df54), :]     # Removing Missing rows\n",
    "L54_d.dateTime = map((x) -> round(x, Dates.Day(1)), L54_d.dateTime) \n",
    "L54_dg = groupby(L54_d, :dateTime) \n",
    "L54_dly = combine(L54_dg, valuecols(L54_dg) .=> mean)\n",
    "# Removing time part of dateTime column\n",
    "L54_dly.dateTime = SubString.(string.(L54_dly.dateTime), 1, 10)\n",
    "L54_dly.dateTime = Date.(L54_dly.dateTime, \"yyyy-mm-dd\")\n",
    "\n",
    "# Central-Node data averaging hourly\n",
    "Central_d = df_central[completecases(df_central), :]     # Removing Missing rows\n",
    "Central_d.dateTime = map((x) -> round(x, Dates.Day(1)), Central_d.dateTime) \n",
    "Central_dg = groupby(Central_d, :dateTime) \n",
    "Central_dly= combine(Central_dg, valuecols(Central_dg) .=> mean);\n",
    "# Removing time part of dateTime column\n",
    "Central_dly.dateTime = SubString.(string.(Central_dly.dateTime), 1, 10)\n",
    "Central_dly.dateTime = Date.(Central_dly.dateTime, \"yyyy-mm-dd\");"
   ]
  },
  {
   "cell_type": "markdown",
   "id": "c317c46b",
   "metadata": {},
   "source": [
    "# ----------------------------------------------------------------------------------------"
   ]
  },
  {
   "cell_type": "markdown",
   "id": "923e532b",
   "metadata": {},
   "source": [
    "# Add Day Names"
   ]
  },
  {
   "cell_type": "markdown",
   "id": "7432af8f",
   "metadata": {},
   "source": [
    "### Add day name to 10-min-averaged-df and save"
   ]
  },
  {
   "cell_type": "code",
   "execution_count": 165,
   "id": "1328538d",
   "metadata": {},
   "outputs": [],
   "source": [
    "# Adding Day name to LoRa53\n",
    "L53_10avg_dayN = map(x -> Dates.dayname(x), L53_10min.dateTime)                 # finding day name for each day\n",
    "L53_10avg_dayN_df = insertcols!(L53_10min, :day_name => L53_10avg_dayN);         # Make new column with day name\n",
    "\n",
    "# Adding Day name to LoRa54\n",
    "L54_10avg_dayN = map(x -> Dates.dayname(x), L54_10min.dateTime)                \n",
    "L54_10avg_dayN_df = insertcols!(L54_10min, :day_name => L54_10avg_dayN);         \n",
    "\n",
    "# Adding Day name to LoRa53\n",
    "Central_10avg_dayN = map(x -> Dates.dayname(x), Central_10min.dateTime)                \n",
    "Central_10avg_dayN_df = insertcols!(Central_10min, :day_name => Central_10avg_dayN);    "
   ]
  },
  {
   "cell_type": "code",
   "execution_count": 166,
   "id": "573ce580",
   "metadata": {},
   "outputs": [
    {
     "data": {
      "text/plain": [
       "\"/Users/prabu/Desktop/Joppa/local_10min_avg_df/df_central_local_10avg_w_dayName.csv\""
      ]
     },
     "execution_count": 166,
     "metadata": {},
     "output_type": "execute_result"
    }
   ],
   "source": [
    "# Save dataFrames\n",
    "CSV.write(\"/Users/prabu/Desktop/Joppa/local_10min_avg_df/df53_local_10avg_w_dayName.csv\", L53_10avg_dayN_df) \n",
    "CSV.write(\"/Users/prabu/Desktop/Joppa/local_10min_avg_df/df54_local_10avg_w_dayName.csv\", L54_10avg_dayN_df) \n",
    "CSV.write(\"/Users/prabu/Desktop/Joppa/local_10min_avg_df/df_central_local_10avg_w_dayName.csv\", Central_10avg_dayN_df) "
   ]
  },
  {
   "cell_type": "markdown",
   "id": "7199413d",
   "metadata": {},
   "source": [
    "### Add day name to Hourly-averaged-df and save"
   ]
  },
  {
   "cell_type": "code",
   "execution_count": 167,
   "id": "f5bc986d",
   "metadata": {},
   "outputs": [],
   "source": [
    "# Adding Day name to LoRa53\n",
    "L53_h_avg_dayN = map(x -> Dates.dayname(x), L53_hly.dateTime)                 # finding day name for each day\n",
    "L53_h_avg_dayN_df = insertcols!(L53_hly, :day_name => L53_h_avg_dayN);         # Make new column with day name\n",
    "\n",
    "# Adding Day name to LoRa54\n",
    "L54_h_avg_dayN = map(x -> Dates.dayname(x), L54_hly.dateTime)                \n",
    "L54_h_avg_dayN_df = insertcols!(L54_hly, :day_name => L54_h_avg_dayN);         \n",
    "\n",
    "# Adding Day name to LoRa53\n",
    "Central_h_avg_dayN = map(x -> Dates.dayname(x), Central_hly.dateTime)                \n",
    "Central_h_avg_dayN_df = insertcols!(Central_hly, :day_name => Central_h_avg_dayN);   "
   ]
  },
  {
   "cell_type": "code",
   "execution_count": 168,
   "id": "90cf38c9",
   "metadata": {},
   "outputs": [
    {
     "data": {
      "text/plain": [
       "\"/Users/prabu/Desktop/Joppa/local_hourly_avg_df/df_central_local_hourly_avg_w_dayName.csv\""
      ]
     },
     "execution_count": 168,
     "metadata": {},
     "output_type": "execute_result"
    }
   ],
   "source": [
    "# Save dataFrames\n",
    "CSV.write(\"/Users/prabu/Desktop/Joppa/local_hourly_avg_df/df53_local_hourly_avg_w_dayName.csv\", L53_h_avg_dayN_df) \n",
    "CSV.write(\"/Users/prabu/Desktop/Joppa/local_hourly_avg_df/df54_local_hourly_avg_w_dayName.csv\", L54_h_avg_dayN_df) \n",
    "CSV.write(\"/Users/prabu/Desktop/Joppa/local_hourly_avg_df/df_central_local_hourly_avg_w_dayName.csv\", Central_h_avg_dayN_df) "
   ]
  },
  {
   "cell_type": "markdown",
   "id": "ebbc5fae",
   "metadata": {},
   "source": [
    "### Add day name to Daily-averaged-df and save"
   ]
  },
  {
   "cell_type": "code",
   "execution_count": 169,
   "id": "35b4d37f",
   "metadata": {},
   "outputs": [],
   "source": [
    "# Adding Day name to LoRa53\n",
    "L53_d_avg_dayN = map(x -> Dates.dayname(x), L53_dly.dateTime)                 # finding day name for each day\n",
    "L53_d_avg_dayN_df = insertcols!(L53_dly, :day_name => L53_d_avg_dayN);         # Make new column with day name\n",
    "\n",
    "# Adding Day name to LoRa54\n",
    "L54_d_avg_dayN = map(x -> Dates.dayname(x), L54_dly.dateTime)                \n",
    "L54_d_avg_dayN_df = insertcols!(L54_dly, :day_name => L54_d_avg_dayN);         \n",
    "\n",
    "# Adding Day name to LoRa53\n",
    "Central_d_avg_dayN = map(x -> Dates.dayname(x), Central_dly.dateTime)                \n",
    "Central_d_avg_dayN_df = insertcols!(Central_dly, :day_name => Central_d_avg_dayN);   "
   ]
  },
  {
   "cell_type": "code",
   "execution_count": 170,
   "id": "254f71c0",
   "metadata": {},
   "outputs": [
    {
     "data": {
      "text/plain": [
       "\"/Users/prabu/Desktop/Joppa/local_daily_avg_df/df_central_local_daily_avg_w_dayName.csv\""
      ]
     },
     "execution_count": 170,
     "metadata": {},
     "output_type": "execute_result"
    }
   ],
   "source": [
    "# Save dataFrames\n",
    "CSV.write(\"/Users/prabu/Desktop/Joppa/local_daily_avg_df/df53_local_daily_avg_w_dayName.csv\", L53_d_avg_dayN_df) \n",
    "CSV.write(\"/Users/prabu/Desktop/Joppa/local_daily_avg_df/df54_local_daily_avg_w_dayName.csv\", L54_d_avg_dayN_df) \n",
    "CSV.write(\"/Users/prabu/Desktop/Joppa/local_daily_avg_df/df_central_local_daily_avg_w_dayName.csv\", Central_d_avg_dayN_df)"
   ]
  }
 ],
 "metadata": {
  "kernelspec": {
   "display_name": "Julia 1.7.2",
   "language": "julia",
   "name": "julia-1.7"
  },
  "language_info": {
   "file_extension": ".jl",
   "mimetype": "application/julia",
   "name": "julia",
   "version": "1.7.2"
  }
 },
 "nbformat": 4,
 "nbformat_minor": 5
}
