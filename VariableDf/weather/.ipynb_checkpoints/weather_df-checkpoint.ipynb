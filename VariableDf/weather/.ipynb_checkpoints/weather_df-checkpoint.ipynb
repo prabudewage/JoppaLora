{
 "cells": [
  {
   "cell_type": "markdown",
   "id": "852a6ab5",
   "metadata": {},
   "source": [
    "# Open grib files of metrological data and convert to dataFrame"
   ]
  },
  {
   "cell_type": "markdown",
   "id": "de5354e2",
   "metadata": {},
   "source": [
    "## python environment = myenv1"
   ]
  },
  {
   "cell_type": "code",
   "execution_count": 15,
   "id": "67e0d8d6",
   "metadata": {},
   "outputs": [],
   "source": [
    "import numpy as np\n",
    "import pygrib\n",
    "#import xarray as xr\n",
    "import os\n",
    "from datetime import datetime\n",
    "import pandas as pd"
   ]
  },
  {
   "cell_type": "code",
   "execution_count": 35,
   "id": "5b834897",
   "metadata": {},
   "outputs": [],
   "source": [
    "# Local path to metrological girb files.\n",
    "main_path = \"/Users/prabu/Desktop/Joppa/Raw_data/weather/\""
   ]
  },
  {
   "cell_type": "code",
   "execution_count": 171,
   "id": "c0bd23b3",
   "metadata": {},
   "outputs": [],
   "source": [
    "# Check the variables\n",
    "s  = \"/Users/prabu/Desktop/Joppa/Raw_data/weather/2022/4/16/00\"\n",
    "g = pygrib.open(s)\n",
    "t = g.select()[0].values\n",
    "\n",
    "# Get the coordinates.\n",
    "coord = g.select()[1]\n",
    "lats, lons = coord.latlons()"
   ]
  },
  {
   "cell_type": "code",
   "execution_count": 17,
   "id": "28f35146",
   "metadata": {},
   "outputs": [],
   "source": [
    "rows = []"
   ]
  },
  {
   "cell_type": "code",
   "execution_count": 18,
   "id": "ee155f84",
   "metadata": {},
   "outputs": [],
   "source": [
    "def read_metro(date, path):\n",
    "    \n",
    "    date_format = datetime.strptime(date, '%Y-%m-%d %H:%M:%S')\n",
    "    \n",
    "    gr = pygrib.open(data)\n",
    "    \n",
    "    coord = gr.select()[1]\n",
    "    lats, lons = coord.latlons()\n",
    "    \n",
    "    temperature_ = gr.select()[0].values\n",
    "    dewpoint_temperature_ = gr.select()[1].values\n",
    "    u_component_of_wind_ = gr.select()[2].values\n",
    "    v_component_of_wind_ = gr.select()[3].values\n",
    "    pressure_ = gr.select()[4].values\n",
    "    precipitation_ = gr.select()[5].values\n",
    "    skin_reservoir_content_ = gr.select()[6].values\n",
    "    evaporation_ = gr.select()[7].values\n",
    "    \n",
    "    latitude = lats.flatten()\n",
    "    longitude = lons.flatten()\n",
    "    temperature = temperature_.flatten()\n",
    "    dewpoint_temperature = dewpoint_temperature_.flatten()\n",
    "    u_component_of_wind = u_component_of_wind_.flatten()\n",
    "    v_component_of_wind = v_component_of_wind_.flatten()\n",
    "    pressure = pressure_.flatten()\n",
    "    precipitation = precipitation_.flatten()\n",
    "    skin_reservoir_content = skin_reservoir_content_.flatten()\n",
    "    evaporation = evaporation_.flatten()\n",
    "    \n",
    "    df = pd.DataFrame({'dateTime':str(date_format), 'latitude':latitude, 'longitude':longitude,\n",
    "                       'temperature':temperature,'dewpoint_temperature':dewpoint_temperature, \n",
    "                       'u_component_of_wind': u_component_of_wind, 'v_component_of_wind':v_component_of_wind, \n",
    "                       'pressure':pressure, 'precipitation':precipitation, \n",
    "                       'skin_reservoir_content':skin_reservoir_content, 'evaporation':evaporation})#, 'latitude':latitude, 'longitude':longitude, 'temperature':temperature})\n",
    "    rows.append(df)\n",
    "    \n",
    "    #rows.append([str(date_format), temperature, dewpoint_temperature, mean_u_wind, mean_v_wind, mean_pressure, mean_precipi, mean_skin, mean_evapo])"
   ]
  },
  {
   "cell_type": "code",
   "execution_count": 19,
   "id": "733e7120",
   "metadata": {},
   "outputs": [
    {
     "name": "stdout",
     "output_type": "stream",
     "text": [
      "exception occured\n",
      "exception occured\n",
      "exception occured\n"
     ]
    }
   ],
   "source": [
    "for year in os.listdir(main_path):\n",
    "    path = main_path + str(year) + \"/\"\n",
    "    try: \n",
    "        for month in os.listdir(path):\n",
    "            path_1 = path + str(month) + \"/\"\n",
    "            try:\n",
    "                for day in os.listdir(path_1):\n",
    "                    path_2 = path_1 + str(day) + \"/\"\n",
    "                    try:\n",
    "                        for h in os.listdir(path_2):\n",
    "                            hr = h[0:2] + \":00\"\n",
    "                            date = str(year) + \"-\" + str(month) + \"-\" + str(day) + \" \" + str(hr) + \":00\"\n",
    "                            data = path_2 + str(h)\n",
    "                            read_metro(date, path)\n",
    "                    except:print(\"exception occured\") \n",
    "            except:print(\"exception occured\") \n",
    "    except:print(\"exception occured\") "
   ]
  },
  {
   "cell_type": "code",
   "execution_count": 20,
   "id": "df513568",
   "metadata": {},
   "outputs": [],
   "source": [
    "result = pd.concat(rows)\n",
    "result.to_csv('/Users/prabu/Desktop/Joppa/variableDataFrames/metro_df.csv')"
   ]
  },
  {
   "cell_type": "markdown",
   "id": "e9ac39bc",
   "metadata": {},
   "source": [
    "# Match data with sensor locations and make three dataFrames"
   ]
  },
  {
   "cell_type": "markdown",
   "id": "d784f71f",
   "metadata": {},
   "source": [
    "### LoRa-53: latitude = 32.7160 & longitude = -96.7504\n",
    "### LoRa-54: latitude = 32.7104 & longitude = -96.7472\n",
    "### Central Node: latitude = 32.7153 & longitude = -96.7479"
   ]
  },
  {
   "cell_type": "markdown",
   "id": "2b117921",
   "metadata": {},
   "source": [
    "# Match location with LoRa53"
   ]
  },
  {
   "cell_type": "code",
   "execution_count": 23,
   "id": "331578f2",
   "metadata": {},
   "outputs": [],
   "source": [
    "main_path = \"/Users/prabu/Desktop/Joppa/Raw_data/weather/\"\n",
    "\n",
    "# Grib location (index) for L53 4,7\n",
    "\n",
    "rows = []"
   ]
  },
  {
   "cell_type": "code",
   "execution_count": 24,
   "id": "438debe2",
   "metadata": {},
   "outputs": [],
   "source": [
    "def read_metro(date, path):\n",
    "\n",
    "    date_format = datetime.strptime(date, '%Y-%m-%d %H:%M:%S')\n",
    "    \n",
    "    gr = pygrib.open(data)\n",
    "\n",
    "    temperature_ = gr.select()[0].values\n",
    "    dewpoint_temperature_ = gr.select()[1].values\n",
    "    u_component_of_wind_ = gr.select()[2].values\n",
    "    v_component_of_wind_ = gr.select()[3].values\n",
    "    pressure_ = gr.select()[4].values\n",
    "    precipitation_ = gr.select()[5].values\n",
    "    skin_reservoir_content_ = gr.select()[6].values\n",
    "    evaporation_ = gr.select()[7].values\n",
    "\n",
    "\n",
    "    temperature = temperature_[4][7]\n",
    "    dewpoint_temperature = dewpoint_temperature_[4][7]\n",
    "    u_component_of_wind = u_component_of_wind_[4][7]\n",
    "    v_component_of_wind = v_component_of_wind_[4][7]\n",
    "    pressure = pressure_[4][7]\n",
    "    precipitation = precipitation_[4][7]\n",
    "    skin_reservoir_content = skin_reservoir_content_[4][7]\n",
    "    evaporation = evaporation_[4][7]\n",
    " \n",
    "    rows.append([date_format, temperature, dewpoint_temperature, u_component_of_wind, v_component_of_wind,\n",
    "                pressure, precipitation, skin_reservoir_content, evaporation])"
   ]
  },
  {
   "cell_type": "code",
   "execution_count": 25,
   "id": "b2ec8362",
   "metadata": {},
   "outputs": [
    {
     "name": "stdout",
     "output_type": "stream",
     "text": [
      "exception occured\n",
      "exception occured\n",
      "exception occured\n"
     ]
    }
   ],
   "source": [
    "for year in os.listdir(main_path):\n",
    "    path = main_path + str(year) + \"/\"\n",
    "    try: \n",
    "        for month in os.listdir(path):\n",
    "            path_1 = path + str(month) + \"/\"\n",
    "            try:\n",
    "                for day in os.listdir(path_1):\n",
    "                    path_2 = path_1 + str(day) + \"/\"\n",
    "                    try:\n",
    "                        for h in os.listdir(path_2):\n",
    "                            hr = h[0:2] + \":00\"\n",
    "                            date = str(year) + \"-\" + str(month) + \"-\" + str(day) + \" \" + str(hr) + \":00\"\n",
    "                            data = path_2 + str(h)\n",
    "                            read_metro(date, path)\n",
    "                    except:print(\"exception occured\") \n",
    "            except:print(\"exception occured\") \n",
    "    except:print(\"exception occured\") "
   ]
  },
  {
   "cell_type": "code",
   "execution_count": 26,
   "id": "6aace510",
   "metadata": {},
   "outputs": [],
   "source": [
    "final_df = pd.DataFrame(rows, columns=[\"dateTime\", \"temperature\", \"dewpoint_temperature\", \"u_comp_of_wind\", \n",
    "                                       \"v_comp_of_wind\", \"pressure\", \"precipitation\", \"skin_reservoir\", \n",
    "                                       \"evaporation\"])\n",
    "\n",
    "final_df.to_csv('/Users/prabu/Desktop/Joppa/CompleteDataFrames/L53_weather_match.csv')"
   ]
  },
  {
   "cell_type": "markdown",
   "id": "6fb38b3f",
   "metadata": {},
   "source": [
    "# Match location with LoRa54"
   ]
  },
  {
   "cell_type": "code",
   "execution_count": 27,
   "id": "69cbdf1b",
   "metadata": {},
   "outputs": [],
   "source": [
    "main_path = \"/Users/prabu/Desktop/Joppa/Raw_data/weather/\"\n",
    "\n",
    "# Grib location (index) for L54 4,9\n",
    "\n",
    "rows = []"
   ]
  },
  {
   "cell_type": "code",
   "execution_count": 28,
   "id": "b98cf84c",
   "metadata": {},
   "outputs": [],
   "source": [
    "def read_metro(date, path):\n",
    "\n",
    "    date_format = datetime.strptime(date, '%Y-%m-%d %H:%M:%S')\n",
    "    \n",
    "    gr = pygrib.open(data)\n",
    "\n",
    "    temperature_ = gr.select()[0].values\n",
    "    dewpoint_temperature_ = gr.select()[1].values\n",
    "    u_component_of_wind_ = gr.select()[2].values\n",
    "    v_component_of_wind_ = gr.select()[3].values\n",
    "    pressure_ = gr.select()[4].values\n",
    "    precipitation_ = gr.select()[5].values\n",
    "    skin_reservoir_content_ = gr.select()[6].values\n",
    "    evaporation_ = gr.select()[7].values\n",
    "\n",
    "\n",
    "    temperature = temperature_[4][9]\n",
    "    dewpoint_temperature = dewpoint_temperature_[4][9]\n",
    "    u_component_of_wind = u_component_of_wind_[4][9]\n",
    "    v_component_of_wind = v_component_of_wind_[4][9]\n",
    "    pressure = pressure_[4][9]\n",
    "    precipitation = precipitation_[4][9]\n",
    "    skin_reservoir_content = skin_reservoir_content_[4][9]\n",
    "    evaporation = evaporation_[4][9]\n",
    " \n",
    "    rows.append([date_format, temperature, dewpoint_temperature, u_component_of_wind, v_component_of_wind,\n",
    "                pressure, precipitation, skin_reservoir_content, evaporation])"
   ]
  },
  {
   "cell_type": "code",
   "execution_count": 29,
   "id": "944dea62",
   "metadata": {},
   "outputs": [
    {
     "name": "stdout",
     "output_type": "stream",
     "text": [
      "exception occured\n",
      "exception occured\n",
      "exception occured\n"
     ]
    }
   ],
   "source": [
    "for year in os.listdir(main_path):\n",
    "    path = main_path + str(year) + \"/\"\n",
    "    try: \n",
    "        for month in os.listdir(path):\n",
    "            path_1 = path + str(month) + \"/\"\n",
    "            try:\n",
    "                for day in os.listdir(path_1):\n",
    "                    path_2 = path_1 + str(day) + \"/\"\n",
    "                    try:\n",
    "                        for h in os.listdir(path_2):\n",
    "                            hr = h[0:2] + \":00\"\n",
    "                            date = str(year) + \"-\" + str(month) + \"-\" + str(day) + \" \" + str(hr) + \":00\"\n",
    "                            data = path_2 + str(h)\n",
    "                            read_metro(date, path)\n",
    "                    except:print(\"exception occured\") \n",
    "            except:print(\"exception occured\") \n",
    "    except:print(\"exception occured\") "
   ]
  },
  {
   "cell_type": "code",
   "execution_count": 30,
   "id": "debf2333",
   "metadata": {},
   "outputs": [],
   "source": [
    "final_df = pd.DataFrame(rows, columns=[\"dateTime\", \"temperature\", \"dewpoint_temperature\", \"u_comp_of_wind\", \n",
    "                                       \"v_comp_of_wind\", \"pressure\", \"precipitation\", \"skin_reservoir\", \n",
    "                                       \"evaporation\"])\n",
    "\n",
    "final_df.to_csv('/Users/prabu/Desktop/Joppa/CompleteDataFrames/L54_weather_match.csv')"
   ]
  },
  {
   "cell_type": "markdown",
   "id": "6547ceee",
   "metadata": {},
   "source": [
    "# Match location with Central Node"
   ]
  },
  {
   "cell_type": "code",
   "execution_count": 31,
   "id": "e7ce1f55",
   "metadata": {},
   "outputs": [],
   "source": [
    "main_path = \"/Users/prabu/Desktop/Joppa/Raw_data/weather/\"\n",
    "\n",
    "# Grib location (index) for Central 7,9\n",
    "\n",
    "rows = []"
   ]
  },
  {
   "cell_type": "code",
   "execution_count": 32,
   "id": "ce1b807d",
   "metadata": {},
   "outputs": [],
   "source": [
    "def read_metro(date, path):\n",
    "\n",
    "    date_format = datetime.strptime(date, '%Y-%m-%d %H:%M:%S')\n",
    "    \n",
    "    gr = pygrib.open(data)\n",
    "\n",
    "    temperature_ = gr.select()[0].values\n",
    "    dewpoint_temperature_ = gr.select()[1].values\n",
    "    u_component_of_wind_ = gr.select()[2].values\n",
    "    v_component_of_wind_ = gr.select()[3].values\n",
    "    pressure_ = gr.select()[4].values\n",
    "    precipitation_ = gr.select()[5].values\n",
    "    skin_reservoir_content_ = gr.select()[6].values\n",
    "    evaporation_ = gr.select()[7].values\n",
    "\n",
    "\n",
    "    temperature = temperature_[7][9]\n",
    "    dewpoint_temperature = dewpoint_temperature_[7][9]\n",
    "    u_component_of_wind = u_component_of_wind_[7][9]\n",
    "    v_component_of_wind = v_component_of_wind_[7][9]\n",
    "    pressure = pressure_[7][9]\n",
    "    precipitation = precipitation_[7][9]\n",
    "    skin_reservoir_content = skin_reservoir_content_[7][9]\n",
    "    evaporation = evaporation_[7][9]\n",
    " \n",
    "    rows.append([date_format, temperature, dewpoint_temperature, u_component_of_wind, v_component_of_wind,\n",
    "                pressure, precipitation, skin_reservoir_content, evaporation])"
   ]
  },
  {
   "cell_type": "code",
   "execution_count": 33,
   "id": "daaa1d8b",
   "metadata": {},
   "outputs": [
    {
     "name": "stdout",
     "output_type": "stream",
     "text": [
      "exception occured\n",
      "exception occured\n",
      "exception occured\n"
     ]
    }
   ],
   "source": [
    "for year in os.listdir(main_path):\n",
    "    path = main_path + str(year) + \"/\"\n",
    "    try: \n",
    "        for month in os.listdir(path):\n",
    "            path_1 = path + str(month) + \"/\"\n",
    "            try:\n",
    "                for day in os.listdir(path_1):\n",
    "                    path_2 = path_1 + str(day) + \"/\"\n",
    "                    try:\n",
    "                        for h in os.listdir(path_2):\n",
    "                            hr = h[0:2] + \":00\"\n",
    "                            date = str(year) + \"-\" + str(month) + \"-\" + str(day) + \" \" + str(hr) + \":00\"\n",
    "                            data = path_2 + str(h)\n",
    "                            read_metro(date, path)\n",
    "                    except:print(\"exception occured\") \n",
    "            except:print(\"exception occured\") \n",
    "    except:print(\"exception occured\") "
   ]
  },
  {
   "cell_type": "code",
   "execution_count": 34,
   "id": "22541193",
   "metadata": {},
   "outputs": [],
   "source": [
    "final_df = pd.DataFrame(rows, columns=[\"dateTime\", \"temperature\", \"dewpoint_temperature\", \"u_comp_of_wind\", \n",
    "                                       \"v_comp_of_wind\", \"pressure\", \"precipitation\", \"skin_reservoir\", \n",
    "                                       \"evaporation\"])\n",
    "\n",
    "final_df.to_csv('/Users/prabu/Desktop/Joppa/CompleteDataFrames/Cent_weather_match.csv')"
   ]
  },
  {
   "cell_type": "code",
   "execution_count": null,
   "id": "470b7dd3",
   "metadata": {},
   "outputs": [],
   "source": []
  }
 ],
 "metadata": {
  "kernelspec": {
   "display_name": "Python 3 (ipykernel)",
   "language": "python",
   "name": "python3"
  },
  "language_info": {
   "codemirror_mode": {
    "name": "ipython",
    "version": 3
   },
   "file_extension": ".py",
   "mimetype": "text/x-python",
   "name": "python",
   "nbconvert_exporter": "python",
   "pygments_lexer": "ipython3",
   "version": "3.9.10"
  }
 },
 "nbformat": 4,
 "nbformat_minor": 5
}
