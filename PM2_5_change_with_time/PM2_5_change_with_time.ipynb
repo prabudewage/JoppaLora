{
 "cells": [
  {
   "cell_type": "code",
   "execution_count": 5,
   "id": "97a8908c",
   "metadata": {},
   "outputs": [],
   "source": [
    "using Plots\n",
    "using CSV\n",
    "using DataFrames\n",
    "using Dates\n",
    "using Statistics\n",
    "using StatsPlots"
   ]
  },
  {
   "cell_type": "code",
   "execution_count": 31,
   "id": "65796b16",
   "metadata": {},
   "outputs": [],
   "source": [
    "df53 = CSV.read(\"/Users/prabu/Desktop/Joppa/hourly_avg_df/df53_hourly_avg.csv\", DataFrame);\n",
    "df54 = CSV.read(\"/Users/prabu/Desktop/Joppa/hourly_avg_df/df54_hourly_avg.csv\", DataFrame);\n",
    "dfCent = CSV.read(\"/Users/prabu/Desktop/Joppa/hourly_avg_df/Cent_hourly_avg.csv\", DataFrame);"
   ]
  },
  {
   "cell_type": "code",
   "execution_count": 7,
   "id": "f1c65fa3",
   "metadata": {},
   "outputs": [
    {
     "data": {
      "text/plain": [
       "1904"
      ]
     },
     "execution_count": 7,
     "metadata": {},
     "output_type": "execute_result"
    }
   ],
   "source": [
    "size(df53)[1]"
   ]
  },
  {
   "cell_type": "code",
   "execution_count": 21,
   "id": "2a6edf1d",
   "metadata": {},
   "outputs": [
    {
     "name": "stdout",
     "output_type": "stream",
     "text": [
      "2022-04-16T00-00-00\n",
      "2022-04-16T01-00-00\n",
      "2022-04-16T02-00-00\n",
      "2022-04-16T03-00-00\n",
      "2022-04-16T04-00-00\n",
      "2022-04-16T05-00-00\n",
      "2022-04-16T06-00-00\n",
      "2022-04-16T07-00-00\n",
      "2022-04-16T08-00-00\n",
      "2022-04-16T09-00-00\n",
      "2022-04-16T10-00-00\n",
      "2022-04-16T11-00-00\n",
      "2022-04-16T12-00-00\n",
      "2022-04-16T13-00-00\n",
      "2022-04-16T14-00-00\n",
      "2022-04-16T15-00-00\n",
      "2022-04-16T16-00-00\n",
      "2022-04-16T17-00-00\n",
      "2022-04-16T18-00-00\n",
      "2022-04-16T19-00-00\n",
      "2022-04-16T20-00-00\n",
      "2022-04-16T21-00-00\n",
      "2022-04-16T22-00-00\n",
      "2022-04-16T23-00-00\n",
      "2022-04-17T00-00-00\n"
     ]
    }
   ],
   "source": [
    "for i in 1:25\n",
    "    plot(df53.dateTime[1:i], df53.IPS7100_pm2_5_mean[1:i], rotation = 90, markershape = :circle, dpi=300, legend = false)\n",
    "    date_time = df53.dateTime[i]\n",
    "    day = string(date_time)\n",
    "    day = replace(day, \":\" => \"-\")\n",
    "    println(day)\n",
    "    title!(\"LoRa53 - PM2.5 on \" * day)\n",
    "    x = string(i)\n",
    "    savefig(\"/Users/prabu/Desktop/Joppa/PM_change_with_time/L53_\" * x * \".png\")\n",
    "end"
   ]
  },
  {
   "cell_type": "code",
   "execution_count": 24,
   "id": "01ee95c0",
   "metadata": {},
   "outputs": [
    {
     "name": "stdout",
     "output_type": "stream",
     "text": [
      "2022-04-16T00-00-00\n",
      "2022-04-16T01-00-00\n",
      "2022-04-16T02-00-00\n",
      "2022-04-16T03-00-00\n",
      "2022-04-16T04-00-00\n",
      "2022-04-16T05-00-00\n",
      "2022-04-16T06-00-00\n",
      "2022-04-16T07-00-00\n",
      "2022-04-16T08-00-00\n",
      "2022-04-16T09-00-00\n",
      "2022-04-16T10-00-00\n",
      "2022-04-16T11-00-00\n",
      "2022-04-16T12-00-00\n",
      "2022-04-16T13-00-00\n",
      "2022-04-16T14-00-00\n",
      "2022-04-16T15-00-00\n",
      "2022-04-16T16-00-00\n",
      "2022-04-16T17-00-00\n",
      "2022-04-16T18-00-00\n",
      "2022-04-16T19-00-00\n",
      "2022-04-16T20-00-00\n",
      "2022-04-16T21-00-00\n",
      "2022-04-16T22-00-00\n",
      "2022-04-16T23-00-00\n",
      "2022-04-17T00-00-00\n"
     ]
    }
   ],
   "source": [
    "for i in 1:25\n",
    "    plot(df54.dateTime[1:i], df54.IPS7100_pm2_5_mean[1:i], rotation = 90, markershape = :circle, dpi=300, legend = false)\n",
    "    date_time = df54.dateTime[i]\n",
    "    day = string(date_time)\n",
    "    day = replace(day, \":\" => \"-\")\n",
    "    println(day)\n",
    "    title!(\"LoRa54 - PM2.5 on \" * day)\n",
    "    x = string(i)\n",
    "    savefig(\"/Users/prabu/Desktop/Joppa/PM_change_with_time/L54_\" * x * \".png\")\n",
    "end"
   ]
  },
  {
   "cell_type": "code",
   "execution_count": 25,
   "id": "51ad6254",
   "metadata": {},
   "outputs": [
    {
     "data": {
      "text/plain": [
       "12-element Vector{String}:\n",
       " \"dateTime\"\n",
       " \"BME280_temperature_mean\"\n",
       " \"BME280_pressure_mean\"\n",
       " \"BME280_humidity_mean\"\n",
       " \"BME280_altitude_mean\"\n",
       " \"IPS7100_pm0_1_mean\"\n",
       " \"IPS7100_pm0_3_mean\"\n",
       " \"IPS7100_pm0_5_mean\"\n",
       " \"IPS7100_pm1_0_mean\"\n",
       " \"IPS7100_pm2_5_mean\"\n",
       " \"IPS7100_pm5_0_mean\"\n",
       " \"IPS7100_pm10_0_mean\""
      ]
     },
     "execution_count": 25,
     "metadata": {},
     "output_type": "execute_result"
    }
   ],
   "source": [
    "names(dfCent)"
   ]
  },
  {
   "cell_type": "code",
   "execution_count": 26,
   "id": "fe07d03f",
   "metadata": {},
   "outputs": [
    {
     "name": "stdout",
     "output_type": "stream",
     "text": [
      "2022-04-16T00-00-00\n",
      "2022-04-16T01-00-00\n",
      "2022-04-16T02-00-00\n",
      "2022-04-16T03-00-00\n",
      "2022-04-16T04-00-00\n",
      "2022-04-16T05-00-00\n",
      "2022-04-16T06-00-00\n",
      "2022-04-16T07-00-00\n",
      "2022-04-16T08-00-00\n",
      "2022-04-16T09-00-00\n",
      "2022-04-16T10-00-00\n",
      "2022-04-16T11-00-00\n",
      "2022-04-16T12-00-00\n",
      "2022-04-16T13-00-00\n",
      "2022-04-16T14-00-00\n",
      "2022-04-16T15-00-00\n",
      "2022-04-16T16-00-00\n",
      "2022-04-16T17-00-00\n",
      "2022-04-16T18-00-00\n",
      "2022-04-16T19-00-00\n",
      "2022-04-16T20-00-00\n",
      "2022-04-16T21-00-00\n",
      "2022-04-16T22-00-00\n",
      "2022-04-16T23-00-00\n",
      "2022-04-17T00-00-00\n"
     ]
    }
   ],
   "source": [
    "for i in 1:25\n",
    "    plot(dfCent.dateTime[1:i], dfCent.IPS7100_pm2_5_mean[1:i], rotation = 90, markershape = :circle, dpi=300, legend = false)\n",
    "    date_time = dfCent.dateTime[i]\n",
    "    day = string(date_time)\n",
    "    day = replace(day, \":\" => \"-\")\n",
    "    println(day)\n",
    "    title!(\"CentralNode - PM2.5 on \" * day)\n",
    "    x = string(i)\n",
    "    savefig(\"/Users/prabu/Desktop/Joppa/PM_change_with_time/Central_\" * x * \".png\")\n",
    "end"
   ]
  },
  {
   "cell_type": "code",
   "execution_count": 36,
   "id": "8aecc4cf",
   "metadata": {},
   "outputs": [],
   "source": [
    "for i in 1:25\n",
    "    plot(df53.dateTime[1:i], df53.IPS7100_pm2_5_mean[1:i], rotation = 90, markershape = :circle, color=\"deepskyblue\", label = \"LoRa53\", dpi=150)\n",
    "    plot!(df54.dateTime[1:i], df54.IPS7100_pm2_5_mean[1:i], markershape = :circle, color=\"blue\", label = \"LoRa54\")\n",
    "    plot!(dfCent.dateTime[1:i], dfCent.IPS7100_pm2_5_mean[1:i], markershape = :circle, color=\"lime\", label = \"Central\")\n",
    "    date_time = dfCent.dateTime[i]\n",
    "    day = string(date_time)\n",
    "    day = replace(day, \":\" => \"-\")\n",
    "    title!(\"PM2.5 on \" * day)\n",
    "    x = string(i)\n",
    "    savefig(\"/Users/prabu/Desktop/Joppa/PM_change_with_time/aa_\" * x * \".png\")\n",
    "end"
   ]
  },
  {
   "cell_type": "code",
   "execution_count": null,
   "id": "41f807d0",
   "metadata": {},
   "outputs": [],
   "source": []
  }
 ],
 "metadata": {
  "kernelspec": {
   "display_name": "Julia 1.7.2",
   "language": "julia",
   "name": "julia-1.7"
  },
  "language_info": {
   "file_extension": ".jl",
   "mimetype": "application/julia",
   "name": "julia",
   "version": "1.7.2"
  }
 },
 "nbformat": 4,
 "nbformat_minor": 5
}
