{
 "cells": [
  {
   "cell_type": "markdown",
   "id": "036d3596",
   "metadata": {},
   "source": [
    "# Combine hourly matched dataFrames of metrological data with Central Node and LoRa Nodes. "
   ]
  },
  {
   "cell_type": "code",
   "execution_count": 1,
   "id": "dcd37c98",
   "metadata": {},
   "outputs": [],
   "source": [
    "using CSV\n",
    "using DataFrames\n",
    "using Dates\n",
    "using Statistics"
   ]
  },
  {
   "cell_type": "code",
   "execution_count": 76,
   "id": "a64e4c22",
   "metadata": {},
   "outputs": [],
   "source": [
    "# Local machine path to UTC hourly PM dataFrames\n",
    "df53_h = CSV.read(\"/Users/prabu/Desktop/Joppa/UTC_df/hourly_avg_df/df53_hourly_avg.csv\", DataFrame);\n",
    "df54_h = CSV.read(\"/Users/prabu/Desktop/Joppa/UTC_df/hourly_avg_df/df54_hourly_avg.csv\", DataFrame);\n",
    "dfCent_h = CSV.read(\"/Users/prabu/Desktop/Joppa/UTC_df/hourly_avg_df/Cent_hourly_avg.csv\", DataFrame);\n",
    "\n",
    "# Local machine path to matched dataFrames\n",
    "df53 = CSV.read(\"/Users/prabu/Desktop/Joppa/ML_Data/match_df/L53_weather_match.csv\", DataFrame);\n",
    "df54 = CSV.read(\"/Users/prabu/Desktop/Joppa/ML_Data/match_df/L54_weather_match.csv\", DataFrame);\n",
    "dfCent = CSV.read(\"/Users/prabu/Desktop/Joppa/ML_Data/match_df/Cent_weather_match.csv\", DataFrame);"
   ]
  },
  {
   "cell_type": "code",
   "execution_count": 77,
   "id": "cb8262a2",
   "metadata": {},
   "outputs": [],
   "source": [
    "# Convert to dateTime format\n",
    "df53.dateTime = DateTime.(df53.dateTime,\"yyyy-mm-dd HH:MM:SS\") \n",
    "df54.dateTime = DateTime.(df54.dateTime,\"yyyy-mm-dd HH:MM:SS\") \n",
    "dfCent.dateTime = DateTime.(dfCent.dateTime,\"yyyy-mm-dd HH:MM:SS\") ;"
   ]
  },
  {
   "cell_type": "code",
   "execution_count": 78,
   "id": "34822f8d",
   "metadata": {},
   "outputs": [],
   "source": [
    "df53_com = outerjoin(df53_h, df53, on = :dateTime, makeunique=true)\n",
    "df54_com = outerjoin(df54_h, df54, on = :dateTime, makeunique=true)\n",
    "dfCent_com = outerjoin(dfCent_h, dfCent, on = :dateTime, makeunique=true);"
   ]
  },
  {
   "cell_type": "code",
   "execution_count": 20,
   "id": "761bb6f3",
   "metadata": {},
   "outputs": [
    {
     "data": {
      "text/plain": [
       "\"/Users/prabu/Desktop/Joppa/ML_Data/match_df/Cent_PM_weather.csv\""
      ]
     },
     "execution_count": 20,
     "metadata": {},
     "output_type": "execute_result"
    }
   ],
   "source": [
    "CSV.write(\"/Users/prabu/Desktop/Joppa/ML_Data/match_df/L53_PM_weather.csv\", df53_com)\n",
    "CSV.write(\"/Users/prabu/Desktop/Joppa/ML_Data/match_df/L54_PM_weather.csv\", df54_com)\n",
    "CSV.write(\"/Users/prabu/Desktop/Joppa/ML_Data/match_df/Cent_PM_weather.csv\", dfCent_com)"
   ]
  },
  {
   "cell_type": "code",
   "execution_count": 79,
   "id": "077aea0f",
   "metadata": {},
   "outputs": [
    {
     "data": {
      "text/plain": [
       "\"/Users/prabu/Desktop/Joppa/ML_Data/match_df/Combined_PM_weather.csv\""
      ]
     },
     "execution_count": 79,
     "metadata": {},
     "output_type": "execute_result"
    }
   ],
   "source": [
    "# Removing extra columns values\n",
    "select!(df53_com, Not(:GPGGALR_Latitude_mean))\n",
    "select!(df53_com, Not(:GPGGALR_Longitude_mean))\n",
    "select!(df54_com, Not(:GPGGALR_Latitude_mean))\n",
    "select!(df54_com, Not(:GPGGALR_Longitude_mean))\n",
    "\n",
    "# Rename\n",
    "rename!(df53_com,:GPGGALR_Altitude_mean => :Altitude)\n",
    "rename!(df54_com,:GPGGALR_Altitude_mean => :Altitude)\n",
    "rename!(dfCent_com,:BME280_altitude_mean => :Altitude)\n",
    "\n",
    "rename!(dfCent_com,:BME280_temperature_mean => :BME280_Temperature_mean)\n",
    "rename!(dfCent_com,:BME280_pressure_mean => :BME280_Pressure_mean)\n",
    "rename!(dfCent_com,:BME280_humidity_mean => :BME280_Humidity_mean)\n",
    "\n",
    "# Removing missing values\n",
    "df53_com = df53_com[completecases(df53_com), :]\n",
    "df54_com = df54_com[completecases(df54_com), :]\n",
    "dfCent_com = dfCent_com[completecases(dfCent_com), :]\n",
    "\n",
    "# Combine all the dataFrames vertically\n",
    "df = outerjoin(df53_com, df54_com, dfCent_com, on = intersect(names(df53_com), names(df54_com), names(dfCent_com)))\n",
    "\n",
    "# Saving\n",
    "CSV.write(\"/Users/prabu/Desktop/Joppa/ML_Data/match_df/Combined_PM_weather.csv\", df)"
   ]
  },
  {
   "cell_type": "code",
   "execution_count": null,
   "id": "1a6f4594",
   "metadata": {},
   "outputs": [],
   "source": []
  }
 ],
 "metadata": {
  "kernelspec": {
   "display_name": "Julia 1.7.2",
   "language": "julia",
   "name": "julia-1.7"
  },
  "language_info": {
   "file_extension": ".jl",
   "mimetype": "application/julia",
   "name": "julia",
   "version": "1.7.2"
  }
 },
 "nbformat": 4,
 "nbformat_minor": 5
}
