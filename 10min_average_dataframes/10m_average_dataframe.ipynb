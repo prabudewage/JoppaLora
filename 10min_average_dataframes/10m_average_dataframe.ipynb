{
 "cells": [
  {
   "cell_type": "code",
   "execution_count": 2,
   "id": "0e67e581",
   "metadata": {},
   "outputs": [],
   "source": [
    "# combine data of each day and make a single dataFrame  "
   ]
  },
  {
   "cell_type": "code",
   "execution_count": 25,
   "id": "3cb8b304",
   "metadata": {},
   "outputs": [],
   "source": [
    "using CSV\n",
    "using DataFrames\n",
    "using Dates\n",
    "using Statistics\n",
    "using Plots"
   ]
  },
  {
   "cell_type": "code",
   "execution_count": 50,
   "id": "14e8be23",
   "metadata": {},
   "outputs": [],
   "source": [
    "# Local machine path to raw data\n",
    "Node53_path = \"/Users/prabu/Desktop/Joppa/Raw_data/LoRa_53\"\n",
    "Node54_path = \"/Users/prabu/Desktop/Joppa/Raw_data/LoRa_54\"\n",
    "\n",
    "node53_ID = \"47cb55800041001c\"\n",
    "node54_ID = \"472b544e0028002b\";"
   ]
  },
  {
   "cell_type": "code",
   "execution_count": 51,
   "id": "0929bcea",
   "metadata": {},
   "outputs": [],
   "source": [
    "nodeId = node53_ID\n",
    "path = Node53_path\n",
    "\n",
    "years_path = filter(isdir,readdir(path,join=true)) \n",
    "years = basename.(years_path);"
   ]
  },
  {
   "cell_type": "code",
   "execution_count": 52,
   "id": "554ee35b",
   "metadata": {},
   "outputs": [],
   "source": [
    "sensorName = [\"BME280\",\"IPS7100\", \"GPGGALR\"];"
   ]
  },
  {
   "cell_type": "code",
   "execution_count": 53,
   "id": "2f193300",
   "metadata": {},
   "outputs": [],
   "source": [
    "function ss(dirr, csvv, sensr)\n",
    "    df = CSV.read(dirr, DataFrame)\n",
    "    \n",
    "    try\n",
    "    \tdf.dateTime =  SubString.(string.(df.dateTime), 1, 19) \n",
    "    \tdf.dateTime = DateTime.(df.dateTime,\"yyyy-mm-dd HH:MM:SS\")  \n",
    "        #println(df)\n",
    "    \tdf.dateTime = map((x) -> round(x, Dates.Minute(10)), df.dateTime)  \n",
    "    \tgdf = groupby(df, :dateTime)  \n",
    "    \tcgdf = combine(gdf, valuecols(gdf) .=> mean)\n",
    "    \n",
    "    \tcolFullName = names(cgdf)\n",
    "    \tfor x in 2:length(colFullName)                                      # Starting from 2nd column and go through all the columns           \n",
    "            num_let = length(colFullName[x])                                # taking number of characters in one column name\n",
    "            colName = SubString.(string.(colFullName[x]), 1, num_let-5)     # removing last five characters of each column name (that is _mean)\n",
    "            rename!(cgdf,colFullName[x] => sensr*\"_\"*colName)               # adding sensor name to the column name\n",
    "    \tend\n",
    "    \treturn cgdf  \n",
    "    \t\n",
    "    catch e println(\"Error on \"*csvv) end\n",
    "\n",
    "end;"
   ]
  },
  {
   "cell_type": "code",
   "execution_count": 61,
   "id": "ee685967",
   "metadata": {},
   "outputs": [
    {
     "name": "stdout",
     "output_type": "stream",
     "text": [
      "error on .DS_Store\n",
      "error on .DS_Store\n",
      "error on .DS_Store\n",
      "error on .DS_Store\n",
      "error on .DS_Store\n",
      "error on .DS_Store\n",
      "error on .DS_Store\n",
      "error on .DS_Store\n",
      "error on .DS_Store\n",
      "error on .DS_Store\n",
      "error on .DS_Store\n",
      "error on .DS_Store\n"
     ]
    }
   ],
   "source": [
    "n = 0\n",
    "for sensor in sensorName\n",
    "    k = 0\n",
    "    for y in years\n",
    "        months = readdir(path*\"/\"*y)\n",
    "        for m in months\n",
    "            try days = readdir(path*\"/\"*y*\"/\"*m)\n",
    "                for d in days\n",
    "                    try filess = readdir(path*\"/\"*y*\"/\"*m*\"/\"*d)\n",
    "                        CSV_file = \"MINTS_\"*nodeId*\"_\"*sensor*\"_\"*y*\"_\"*m*\"_\"*d*\".csv\"\n",
    "                        \n",
    "                        if (CSV_file in filess)\n",
    "                            dir = path*\"/\"*y*\"/\"*m*\"/\"*d*\"/\"*CSV_file\n",
    "                            averaged_df = ss(dir, CSV_file, sensor)\n",
    "                            df2 = averaged_df\n",
    "                            k = k + 1\n",
    "                            if (k > 1) global new_df = outerjoin(new_df, df2, on = intersect(names(new_df), names(df2)))\n",
    "                            else new_df = averaged_df end\n",
    "                        else println(\"No data of \"*sensor) end\n",
    "                        \n",
    "                    catch e println(\"error on \"*d) end\n",
    "                end\n",
    "            catch e println(\"error on \"*m) end\n",
    "        end\n",
    "    end\n",
    "\n",
    "    global n = n + 1\n",
    "    if (n > 1) global final_df = outerjoin(final_df, new_df, on = :dateTime, makeunique=true) \n",
    "    else final_df = new_df end\n",
    "end"
   ]
  },
  {
   "cell_type": "code",
   "execution_count": 62,
   "id": "51b4054a",
   "metadata": {},
   "outputs": [
    {
     "data": {
      "text/plain": [
       "\"/Users/prabu/Desktop/Joppa/df_lora53.csv\""
      ]
     },
     "execution_count": 62,
     "metadata": {},
     "output_type": "execute_result"
    }
   ],
   "source": [
    "final_df2 = sort!(final_df)\n",
    "\n",
    "select!(final_df2, Not([:IPS7100_pc0_1, :IPS7100_pc0_3, :IPS7100_pc0_5, :IPS7100_pc1_0, :IPS7100_pc2_5, :IPS7100_pc5_0, \n",
    "            :IPS7100_pc10_0, :GPGGALR_Speed, :GPGGALR_Course, :GPGGALR_HDOP, :GPGGALR_Year, :GPGGALR_Month, :GPGGALR_Day,\n",
    "            :GPGGALR_Hour, :GPGGALR_Minute, :GPGGALR_Second]))\n",
    "#delete!(final_df2,[:IPS7100_pc0_1,:IPS7100_pc0_3])\n",
    "\n",
    "for col in names(final_df2)\n",
    "    if nrow(final_df2) == sum(ismissing.(final_df2[!, col])) select!(final_df2, Not(col)) end\n",
    "end\n",
    "\n",
    "CSV.write(\"/Users/prabu/Desktop/Joppa/df_lora53.csv\", final_df2)"
   ]
  }
 ],
 "metadata": {
  "kernelspec": {
   "display_name": "Julia 1.7.2",
   "language": "julia",
   "name": "julia-1.7"
  },
  "language_info": {
   "file_extension": ".jl",
   "mimetype": "application/julia",
   "name": "julia",
   "version": "1.7.2"
  }
 },
 "nbformat": 4,
 "nbformat_minor": 5
}
