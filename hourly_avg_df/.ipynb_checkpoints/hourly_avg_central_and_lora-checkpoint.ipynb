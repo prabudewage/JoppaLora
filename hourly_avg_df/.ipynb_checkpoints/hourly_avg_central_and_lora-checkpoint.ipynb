{
 "cells": [
  {
   "cell_type": "markdown",
   "id": "dba75844",
   "metadata": {},
   "source": [
    "### Hourly average UTC time Central Node data "
   ]
  },
  {
   "cell_type": "code",
   "execution_count": 2,
   "id": "6297d044",
   "metadata": {},
   "outputs": [],
   "source": [
    "using CSV\n",
    "using DataFrames\n",
    "using Dates"
   ]
  },
  {
   "cell_type": "code",
   "execution_count": 1,
   "id": "20dfe70c",
   "metadata": {},
   "outputs": [
    {
     "data": {
      "text/plain": [
       "\"/Users/prabu/Desktop/Joppa/10min_avg_df/df_lora53.csv\""
      ]
     },
     "execution_count": 1,
     "metadata": {},
     "output_type": "execute_result"
    }
   ],
   "source": [
    "# Local machine path to 10 min averaged dataFrame\n",
    "path = \"/Users/prabu/Desktop/Joppa/10min_avg_df/df_lora53.csv\""
   ]
  },
  {
   "cell_type": "code",
   "execution_count": null,
   "id": "e519ef63",
   "metadata": {},
   "outputs": [],
   "source": []
  }
 ],
 "metadata": {
  "kernelspec": {
   "display_name": "Julia 1.7.2",
   "language": "julia",
   "name": "julia-1.7"
  },
  "language_info": {
   "file_extension": ".jl",
   "mimetype": "application/julia",
   "name": "julia",
   "version": "1.7.2"
  }
 },
 "nbformat": 4,
 "nbformat_minor": 5
}
