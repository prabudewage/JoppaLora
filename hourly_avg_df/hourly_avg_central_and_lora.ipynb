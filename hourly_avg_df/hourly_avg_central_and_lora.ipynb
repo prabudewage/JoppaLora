{
 "cells": [
  {
   "cell_type": "markdown",
   "id": "dba75844",
   "metadata": {},
   "source": [
    "### Hourly average UTC time Central Node data "
   ]
  },
  {
   "cell_type": "code",
   "execution_count": 15,
   "id": "6297d044",
   "metadata": {},
   "outputs": [],
   "source": [
    "using CSV\n",
    "using DataFrames\n",
    "using Dates\n",
    "using Statistics"
   ]
  },
  {
   "cell_type": "code",
   "execution_count": 21,
   "id": "09103cc1",
   "metadata": {},
   "outputs": [],
   "source": [
    "# Local machine path to 10 min averaged dataFrame\n",
    "df53 = CSV.read(\"/Users/prabu/Desktop/Joppa/10min_avg_df/df_lora53.csv\", DataFrame);\n",
    "df54 = CSV.read(\"/Users/prabu/Desktop/Joppa/10min_avg_df/df_lora54.csv\", DataFrame);\n",
    "dfCent = CSV.read(\"/Users/prabu/Desktop/Joppa/10min_avg_df/df_central.csv\", DataFrame);"
   ]
  },
  {
   "cell_type": "code",
   "execution_count": 22,
   "id": "677a8b9c",
   "metadata": {},
   "outputs": [],
   "source": [
    "# Removing Missing rows\n",
    "L53 = df53[completecases(df53), :];\n",
    "L54 = df54[completecases(df54), :];\n",
    "Cent = dfCent[completecases(dfCent), :];"
   ]
  },
  {
   "cell_type": "code",
   "execution_count": 23,
   "id": "54eccae5",
   "metadata": {},
   "outputs": [
    {
     "data": {
      "text/plain": [
       "\"/Users/prabu/Desktop/Joppa/hourly_avg_df/Cent_hourly_avg.csv\""
      ]
     },
     "execution_count": 23,
     "metadata": {},
     "output_type": "execute_result"
    }
   ],
   "source": [
    "# Hourly averaging\n",
    "\n",
    "# LoRa53\n",
    "L53.dateTime = map((x) -> round(x, Dates.Hour(1)), L53.dateTime) \n",
    "L53_hg = groupby(L53, :dateTime) \n",
    "L53_hly = combine(L53_hg, valuecols(L53_hg) .=> mean)\n",
    "CSV.write(\"/Users/prabu/Desktop/Joppa/hourly_avg_df/df53_hourly_avg.csv\", L53_hly)\n",
    "\n",
    "# LoRa54\n",
    "L54.dateTime = map((x) -> round(x, Dates.Hour(1)), L54.dateTime) \n",
    "L54_hg = groupby(L54, :dateTime) \n",
    "L54_hly = combine(L54_hg, valuecols(L54_hg) .=> mean)\n",
    "CSV.write(\"/Users/prabu/Desktop/Joppa/hourly_avg_df/df54_hourly_avg.csv\", L54_hly)\n",
    "\n",
    "# Central Node\n",
    "Cent.dateTime = map((x) -> round(x, Dates.Hour(1)), Cent.dateTime) \n",
    "Cent_hg = groupby(Cent, :dateTime) \n",
    "Cent_hly = combine(Cent_hg, valuecols(Cent_hg) .=> mean)\n",
    "CSV.write(\"/Users/prabu/Desktop/Joppa/hourly_avg_df/Cent_hourly_avg.csv\", Cent_hly)"
   ]
  },
  {
   "cell_type": "code",
   "execution_count": null,
   "id": "1c34dd3d",
   "metadata": {},
   "outputs": [],
   "source": []
  }
 ],
 "metadata": {
  "kernelspec": {
   "display_name": "Julia 1.7.2",
   "language": "julia",
   "name": "julia-1.7"
  },
  "language_info": {
   "file_extension": ".jl",
   "mimetype": "application/julia",
   "name": "julia",
   "version": "1.7.2"
  }
 },
 "nbformat": 4,
 "nbformat_minor": 5
}
